{
  "nbformat": 4,
  "nbformat_minor": 0,
  "metadata": {
    "colab": {
      "name": "ImageDenoising.ipynb",
      "version": "0.3.2",
      "provenance": [],
      "collapsed_sections": [],
      "include_colab_link": true
    },
    "language_info": {
      "codemirror_mode": {
        "name": "ipython",
        "version": 3
      },
      "file_extension": ".py",
      "mimetype": "text/x-python",
      "name": "python",
      "nbconvert_exporter": "python",
      "pygments_lexer": "ipython3",
      "version": "3.6.0"
    },
    "kernelspec": {
      "name": "python3",
      "display_name": "Python 3"
    },
    "accelerator": "GPU"
  },
  "cells": [
    {
      "cell_type": "markdown",
      "metadata": {
        "id": "view-in-github",
        "colab_type": "text"
      },
      "source": [
        "<a href=\"https://colab.research.google.com/github/aaditya1004/CIFAR10/blob/master/ImageDenoising.ipynb\" target=\"_parent\"><img src=\"https://colab.research.google.com/assets/colab-badge.svg\" alt=\"Open In Colab\"/></a>"
      ]
    },
    {
      "cell_type": "code",
      "metadata": {
        "id": "eoETj3huPPO2",
        "colab_type": "code",
        "colab": {
          "base_uri": "https://localhost:8080/",
          "height": 34
        },
        "outputId": "ef1f0285-8aae-42df-f1f9-57c42dcf6cf3"
      },
      "source": [
        "from keras.datasets import mnist"
      ],
      "execution_count": 1,
      "outputs": [
        {
          "output_type": "stream",
          "text": [
            "Using TensorFlow backend.\n"
          ],
          "name": "stderr"
        }
      ]
    },
    {
      "cell_type": "code",
      "metadata": {
        "id": "hNvejuhwPPO6",
        "colab_type": "code",
        "colab": {
          "base_uri": "https://localhost:8080/",
          "height": 51
        },
        "outputId": "db1a1165-8147-4dff-9e70-3b4cfe60beb2"
      },
      "source": [
        "(x_train,y_train),(x_test,y_test) = mnist.load_data()"
      ],
      "execution_count": 2,
      "outputs": [
        {
          "output_type": "stream",
          "text": [
            "Downloading data from https://s3.amazonaws.com/img-datasets/mnist.npz\n",
            "11493376/11490434 [==============================] - 2s 0us/step\n"
          ],
          "name": "stdout"
        }
      ]
    },
    {
      "cell_type": "code",
      "metadata": {
        "id": "ZH2_-vDDPPO8",
        "colab_type": "code",
        "colab": {}
      },
      "source": [
        "x_train = x_train.reshape(len(x_train),28,28,1)\n",
        "x_train = x_train.astype('float32')/255\n",
        "\n",
        "x_test = x_test.reshape(len(x_test),28,28,1)\n",
        "x_test = x_test.astype('float32')/255"
      ],
      "execution_count": 0,
      "outputs": []
    },
    {
      "cell_type": "code",
      "metadata": {
        "id": "9yR88JPJPPO-",
        "colab_type": "code",
        "colab": {}
      },
      "source": [
        "import numpy as np\n",
        "noise = 0.5\n",
        "x_train_noisy = x_train + noise * np.random.normal(loc = 0.0,scale = 1.0, size = x_train.shape)\n",
        "x_test_noisy = x_test + noise * np.random.normal(loc = 0.0,scale = 1.0, size = x_test.shape)\n",
        "\n",
        "x_train_noisy = np.clip(x_train_noisy, 0., 1.)\n",
        "x_test_noisy = np.clip(x_test_noisy, 0., 1.)\n",
        "\n"
      ],
      "execution_count": 0,
      "outputs": []
    },
    {
      "cell_type": "code",
      "metadata": {
        "id": "sGQLGPkkPPPA",
        "colab_type": "code",
        "colab": {
          "base_uri": "https://localhost:8080/",
          "height": 269
        },
        "outputId": "ad913b25-3b79-41e0-bdc9-90aa00e9cd76"
      },
      "source": [
        "import matplotlib.pyplot as plt\n",
        "plt.imshow(x_test_noisy[1].reshape(28, 28))\n",
        "plt.gray()\n",
        "    \n"
      ],
      "execution_count": 5,
      "outputs": [
        {
          "output_type": "display_data",
          "data": {
            "image/png": "[encoded data removed]",
            "text/plain": [
              "<Figure size 432x288 with 1 Axes>"
            ]
          },
          "metadata": {
            "tags": []
          }
        }
      ]
    },
    {
      "cell_type": "code",
      "metadata": {
        "id": "fAsa0J6PPPPD",
        "colab_type": "code",
        "colab": {}
      },
      "source": [
        "from keras.layers import Input, Conv2D, MaxPooling2D, UpSampling2D"
      ],
      "execution_count": 0,
      "outputs": []
    },
    {
      "cell_type": "code",
      "metadata": {
        "id": "NqDosiPcPPPF",
        "colab_type": "code",
        "colab": {
          "base_uri": "https://localhost:8080/",
          "height": 190
        },
        "outputId": "e1e52d98-2405-4203-cd79-d605e0b68b4b"
      },
      "source": [
        "input_image = Input(shape = (28,28,1))\n",
        "x = Conv2D(32,(3,3),activation = 'relu',padding = 'same')(input_image)\n",
        "x = MaxPooling2D((2,2),padding = 'same')(x)\n",
        "x = Conv2D(32,(3,3),activation = 'relu',padding = 'same')(x)\n",
        "encoded = MaxPooling2D((2,2),padding = 'same')(x)\n"
      ],
      "execution_count": 7,
      "outputs": [
        {
          "output_type": "stream",
          "text": [
            "WARNING: Logging before flag parsing goes to stderr.\n",
            "W0709 05:38:58.587101 140163675514752 deprecation_wrapper.py:119] From /usr/local/lib/python3.6/dist-packages/keras/backend/tensorflow_backend.py:74: The name tf.get_default_graph is deprecated. Please use tf.compat.v1.get_default_graph instead.\n",
            "\n",
            "W0709 05:38:58.620478 140163675514752 deprecation_wrapper.py:119] From /usr/local/lib/python3.6/dist-packages/keras/backend/tensorflow_backend.py:517: The name tf.placeholder is deprecated. Please use tf.compat.v1.placeholder instead.\n",
            "\n",
            "W0709 05:38:58.630198 140163675514752 deprecation_wrapper.py:119] From /usr/local/lib/python3.6/dist-packages/keras/backend/tensorflow_backend.py:4138: The name tf.random_uniform is deprecated. Please use tf.random.uniform instead.\n",
            "\n",
            "W0709 05:38:58.655838 140163675514752 deprecation_wrapper.py:119] From /usr/local/lib/python3.6/dist-packages/keras/backend/tensorflow_backend.py:3976: The name tf.nn.max_pool is deprecated. Please use tf.nn.max_pool2d instead.\n",
            "\n"
          ],
          "name": "stderr"
        }
      ]
    },
    {
      "cell_type": "code",
      "metadata": {
        "id": "3lYt1jIvPPPG",
        "colab_type": "code",
        "colab": {}
      },
      "source": [
        "from keras.models import Model\n",
        "encoder = Model(input_image,encoded)"
      ],
      "execution_count": 0,
      "outputs": []
    },
    {
      "cell_type": "code",
      "metadata": {
        "id": "U7lE4A7hPPPI",
        "colab_type": "code",
        "colab": {
          "base_uri": "https://localhost:8080/",
          "height": 71
        },
        "outputId": "1d1e3b19-a644-4086-ea7b-5a62c73c1f18"
      },
      "source": [
        "x = Conv2D(32,(3,3),activation = 'relu',padding = 'same')(encoded)\n",
        "x = UpSampling2D((2,2))(x)\n",
        "x = Conv2D(32,(3,3),activation = 'relu',padding = 'same')(x)\n",
        "x = UpSampling2D((2,2))(x)\n",
        "decoded = Conv2D(1,(3,3),activation = 'sigmoid',padding = 'same')(x)\n",
        "autoencoder = Model(input_image, decoded)"
      ],
      "execution_count": 9,
      "outputs": [
        {
          "output_type": "stream",
          "text": [
            "W0709 05:39:06.707512 140163675514752 deprecation_wrapper.py:119] From /usr/local/lib/python3.6/dist-packages/keras/backend/tensorflow_backend.py:2018: The name tf.image.resize_nearest_neighbor is deprecated. Please use tf.compat.v1.image.resize_nearest_neighbor instead.\n",
            "\n"
          ],
          "name": "stderr"
        }
      ]
    },
    {
      "cell_type": "code",
      "metadata": {
        "id": "OT1q8e0hPPPK",
        "colab_type": "code",
        "colab": {
          "base_uri": "https://localhost:8080/",
          "height": 156
        },
        "outputId": "7172454f-4ec1-4276-e0b9-b46b071765af"
      },
      "source": [
        "autoencoder.compile(optimizer = 'adadelta',loss = 'binary_crossentropy',metrics = ['accuracy'])"
      ],
      "execution_count": 10,
      "outputs": [
        {
          "output_type": "stream",
          "text": [
            "W0709 05:39:09.541342 140163675514752 deprecation_wrapper.py:119] From /usr/local/lib/python3.6/dist-packages/keras/optimizers.py:790: The name tf.train.Optimizer is deprecated. Please use tf.compat.v1.train.Optimizer instead.\n",
            "\n",
            "W0709 05:39:09.561394 140163675514752 deprecation_wrapper.py:119] From /usr/local/lib/python3.6/dist-packages/keras/backend/tensorflow_backend.py:3376: The name tf.log is deprecated. Please use tf.math.log instead.\n",
            "\n",
            "W0709 05:39:09.566825 140163675514752 deprecation.py:323] From /usr/local/lib/python3.6/dist-packages/tensorflow/python/ops/nn_impl.py:180: add_dispatch_support.<locals>.wrapper (from tensorflow.python.ops.array_ops) is deprecated and will be removed in a future version.\n",
            "Instructions for updating:\n",
            "Use tf.where in 2.0, which has the same broadcast rule as np.where\n"
          ],
          "name": "stderr"
        }
      ]
    },
    {
      "cell_type": "code",
      "metadata": {
        "id": "w3gWgTyXPPPM",
        "colab_type": "code",
        "colab": {
          "base_uri": "https://localhost:8080/",
          "height": 1000
        },
        "outputId": "2f175547-4caa-4f3a-e11e-aebe3755da32"
      },
      "source": [
        "autoencoder.fit(x_train_noisy, x_train,\n",
        "                epochs=100,\n",
        "                batch_size=128,\n",
        "                shuffle=True,\n",
        "                validation_data=(x_test_noisy, x_test))\n",
        "                \n",
        "    \n",
        "    "
      ],
      "execution_count": 11,
      "outputs": [
        {
          "output_type": "stream",
          "text": [
            "W0709 05:39:14.814918 140163675514752 deprecation_wrapper.py:119] From /usr/local/lib/python3.6/dist-packages/keras/backend/tensorflow_backend.py:986: The name tf.assign_add is deprecated. Please use tf.compat.v1.assign_add instead.\n",
            "\n"
          ],
          "name": "stderr"
        },
        {
          "output_type": "stream",
          "text": [
            "Train on 60000 samples, validate on 10000 samples\n",
            "Epoch 1/100\n",
            "60000/60000 [==============================] - 10s 162us/step - loss: 0.1744 - acc: 0.8051 - val_loss: 0.1193 - val_acc: 0.8077\n",
            "Epoch 2/100\n",
            "60000/60000 [==============================] - 4s 60us/step - loss: 0.1180 - acc: 0.8100 - val_loss: 0.1108 - val_acc: 0.8114\n",
            "Epoch 3/100\n",
            "60000/60000 [==============================] - 4s 60us/step - loss: 0.1108 - acc: 0.8114 - val_loss: 0.1093 - val_acc: 0.8088\n",
            "Epoch 4/100\n",
            "60000/60000 [==============================] - 4s 60us/step - loss: 0.1073 - acc: 0.8119 - val_loss: 0.1041 - val_acc: 0.8105\n",
            "Epoch 5/100\n",
            "60000/60000 [==============================] - 4s 60us/step - loss: 0.1051 - acc: 0.8123 - val_loss: 0.1021 - val_acc: 0.8111\n",
            "Epoch 6/100\n",
            "60000/60000 [==============================] - 4s 60us/step - loss: 0.1035 - acc: 0.8125 - val_loss: 0.1028 - val_acc: 0.8125\n",
            "Epoch 7/100\n",
            "60000/60000 [==============================] - 4s 60us/step - loss: 0.1026 - acc: 0.8127 - val_loss: 0.1007 - val_acc: 0.8124\n",
            "Epoch 8/100\n",
            "60000/60000 [==============================] - 4s 60us/step - loss: 0.1018 - acc: 0.8128 - val_loss: 0.0996 - val_acc: 0.8117\n",
            "Epoch 9/100\n",
            "60000/60000 [==============================] - 4s 60us/step - loss: 0.1012 - acc: 0.8128 - val_loss: 0.0993 - val_acc: 0.8124\n",
            "Epoch 10/100\n",
            "60000/60000 [==============================] - 4s 60us/step - loss: 0.1006 - acc: 0.8129 - val_loss: 0.0987 - val_acc: 0.8123\n",
            "Epoch 11/100\n",
            "60000/60000 [==============================] - 4s 60us/step - loss: 0.1000 - acc: 0.8130 - val_loss: 0.0994 - val_acc: 0.8127\n",
            "Epoch 12/100\n",
            "60000/60000 [==============================] - 4s 60us/step - loss: 0.0997 - acc: 0.8130 - val_loss: 0.0994 - val_acc: 0.8113\n",
            "Epoch 13/100\n",
            "60000/60000 [==============================] - 4s 60us/step - loss: 0.0993 - acc: 0.8131 - val_loss: 0.0977 - val_acc: 0.8124\n",
            "Epoch 14/100\n",
            "60000/60000 [==============================] - 4s 60us/step - loss: 0.0990 - acc: 0.8131 - val_loss: 0.0990 - val_acc: 0.8127\n",
            "Epoch 15/100\n",
            "60000/60000 [==============================] - 4s 60us/step - loss: 0.0988 - acc: 0.8132 - val_loss: 0.1000 - val_acc: 0.8129\n",
            "Epoch 16/100\n",
            "60000/60000 [==============================] - 4s 60us/step - loss: 0.0985 - acc: 0.8132 - val_loss: 0.0981 - val_acc: 0.8128\n",
            "Epoch 17/100\n",
            "60000/60000 [==============================] - 4s 60us/step - loss: 0.0981 - acc: 0.8132 - val_loss: 0.0974 - val_acc: 0.8118\n",
            "Epoch 18/100\n",
            "60000/60000 [==============================] - 4s 61us/step - loss: 0.0979 - acc: 0.8132 - val_loss: 0.0967 - val_acc: 0.8121\n",
            "Epoch 19/100\n",
            "60000/60000 [==============================] - 4s 61us/step - loss: 0.0979 - acc: 0.8133 - val_loss: 0.0965 - val_acc: 0.8124\n",
            "Epoch 20/100\n",
            "60000/60000 [==============================] - 4s 61us/step - loss: 0.0975 - acc: 0.8133 - val_loss: 0.0971 - val_acc: 0.8118\n",
            "Epoch 21/100\n",
            "60000/60000 [==============================] - 4s 60us/step - loss: 0.0973 - acc: 0.8133 - val_loss: 0.0961 - val_acc: 0.8124\n",
            "Epoch 22/100\n",
            "60000/60000 [==============================] - 4s 61us/step - loss: 0.0973 - acc: 0.8133 - val_loss: 0.0961 - val_acc: 0.8123\n",
            "Epoch 23/100\n",
            "60000/60000 [==============================] - 4s 61us/step - loss: 0.0971 - acc: 0.8133 - val_loss: 0.0966 - val_acc: 0.8127\n",
            "Epoch 24/100\n",
            "60000/60000 [==============================] - 4s 60us/step - loss: 0.0970 - acc: 0.8134 - val_loss: 0.0958 - val_acc: 0.8125\n",
            "Epoch 25/100\n",
            "60000/60000 [==============================] - 4s 61us/step - loss: 0.0968 - acc: 0.8134 - val_loss: 0.0971 - val_acc: 0.8129\n",
            "Epoch 26/100\n",
            "60000/60000 [==============================] - 4s 60us/step - loss: 0.0967 - acc: 0.8134 - val_loss: 0.0956 - val_acc: 0.8124\n",
            "Epoch 27/100\n",
            "60000/60000 [==============================] - 4s 60us/step - loss: 0.0966 - acc: 0.8134 - val_loss: 0.0955 - val_acc: 0.8124\n",
            "Epoch 28/100\n",
            "60000/60000 [==============================] - 4s 61us/step - loss: 0.0965 - acc: 0.8134 - val_loss: 0.0955 - val_acc: 0.8125\n",
            "Epoch 29/100\n",
            "60000/60000 [==============================] - 4s 60us/step - loss: 0.0964 - acc: 0.8134 - val_loss: 0.0954 - val_acc: 0.8126\n",
            "Epoch 30/100\n",
            "60000/60000 [==============================] - 4s 60us/step - loss: 0.0964 - acc: 0.8134 - val_loss: 0.0963 - val_acc: 0.8118\n",
            "Epoch 31/100\n",
            "60000/60000 [==============================] - 4s 61us/step - loss: 0.0962 - acc: 0.8134 - val_loss: 0.0952 - val_acc: 0.8126\n",
            "Epoch 32/100\n",
            "60000/60000 [==============================] - 4s 60us/step - loss: 0.0961 - acc: 0.8135 - val_loss: 0.0952 - val_acc: 0.8127\n",
            "Epoch 33/100\n",
            "60000/60000 [==============================] - 4s 61us/step - loss: 0.0960 - acc: 0.8135 - val_loss: 0.0962 - val_acc: 0.8129\n",
            "Epoch 34/100\n",
            "60000/60000 [==============================] - 4s 60us/step - loss: 0.0960 - acc: 0.8135 - val_loss: 0.0962 - val_acc: 0.8130\n",
            "Epoch 35/100\n",
            "60000/60000 [==============================] - 4s 60us/step - loss: 0.0959 - acc: 0.8135 - val_loss: 0.0949 - val_acc: 0.8126\n",
            "Epoch 36/100\n",
            "60000/60000 [==============================] - 4s 61us/step - loss: 0.0958 - acc: 0.8135 - val_loss: 0.0951 - val_acc: 0.8124\n",
            "Epoch 37/100\n",
            "60000/60000 [==============================] - 4s 61us/step - loss: 0.0958 - acc: 0.8135 - val_loss: 0.0954 - val_acc: 0.8129\n",
            "Epoch 38/100\n",
            "60000/60000 [==============================] - 4s 61us/step - loss: 0.0957 - acc: 0.8135 - val_loss: 0.0953 - val_acc: 0.8129\n",
            "Epoch 39/100\n",
            "60000/60000 [==============================] - 4s 61us/step - loss: 0.0957 - acc: 0.8135 - val_loss: 0.0952 - val_acc: 0.8122\n",
            "Epoch 40/100\n",
            "60000/60000 [==============================] - 4s 61us/step - loss: 0.0956 - acc: 0.8135 - val_loss: 0.0947 - val_acc: 0.8127\n",
            "Epoch 41/100\n",
            "60000/60000 [==============================] - 4s 61us/step - loss: 0.0955 - acc: 0.8135 - val_loss: 0.0957 - val_acc: 0.8129\n",
            "Epoch 42/100\n",
            "60000/60000 [==============================] - 4s 61us/step - loss: 0.0955 - acc: 0.8135 - val_loss: 0.0955 - val_acc: 0.8130\n",
            "Epoch 43/100\n",
            "60000/60000 [==============================] - 4s 61us/step - loss: 0.0954 - acc: 0.8135 - val_loss: 0.0956 - val_acc: 0.8119\n",
            "Epoch 44/100\n",
            "60000/60000 [==============================] - 4s 62us/step - loss: 0.0953 - acc: 0.8135 - val_loss: 0.0947 - val_acc: 0.8123\n",
            "Epoch 45/100\n",
            "60000/60000 [==============================] - 4s 63us/step - loss: 0.0953 - acc: 0.8135 - val_loss: 0.0950 - val_acc: 0.8122\n",
            "Epoch 46/100\n",
            "60000/60000 [==============================] - 4s 63us/step - loss: 0.0953 - acc: 0.8135 - val_loss: 0.0953 - val_acc: 0.8120\n",
            "Epoch 47/100\n",
            "60000/60000 [==============================] - 4s 61us/step - loss: 0.0952 - acc: 0.8135 - val_loss: 0.0944 - val_acc: 0.8126\n",
            "Epoch 48/100\n",
            "60000/60000 [==============================] - 4s 61us/step - loss: 0.0952 - acc: 0.8136 - val_loss: 0.0944 - val_acc: 0.8126\n",
            "Epoch 49/100\n",
            "60000/60000 [==============================] - 4s 61us/step - loss: 0.0952 - acc: 0.8136 - val_loss: 0.0944 - val_acc: 0.8125\n",
            "Epoch 50/100\n",
            "60000/60000 [==============================] - 4s 61us/step - loss: 0.0951 - acc: 0.8136 - val_loss: 0.0943 - val_acc: 0.8127\n",
            "Epoch 51/100\n",
            "60000/60000 [==============================] - 4s 61us/step - loss: 0.0951 - acc: 0.8136 - val_loss: 0.0945 - val_acc: 0.8128\n",
            "Epoch 52/100\n",
            "60000/60000 [==============================] - 4s 62us/step - loss: 0.0950 - acc: 0.8136 - val_loss: 0.0944 - val_acc: 0.8126\n",
            "Epoch 53/100\n",
            "60000/60000 [==============================] - 4s 62us/step - loss: 0.0950 - acc: 0.8136 - val_loss: 0.0947 - val_acc: 0.8122\n",
            "Epoch 54/100\n",
            "60000/60000 [==============================] - 4s 62us/step - loss: 0.0949 - acc: 0.8136 - val_loss: 0.0945 - val_acc: 0.8123\n",
            "Epoch 55/100\n",
            "60000/60000 [==============================] - 4s 62us/step - loss: 0.0949 - acc: 0.8136 - val_loss: 0.0946 - val_acc: 0.8123\n",
            "Epoch 56/100\n",
            "60000/60000 [==============================] - 4s 62us/step - loss: 0.0949 - acc: 0.8136 - val_loss: 0.0943 - val_acc: 0.8127\n",
            "Epoch 57/100\n",
            "60000/60000 [==============================] - 4s 62us/step - loss: 0.0949 - acc: 0.8136 - val_loss: 0.0953 - val_acc: 0.8120\n",
            "Epoch 58/100\n",
            "60000/60000 [==============================] - 4s 62us/step - loss: 0.0949 - acc: 0.8136 - val_loss: 0.0943 - val_acc: 0.8128\n",
            "Epoch 59/100\n",
            "60000/60000 [==============================] - 4s 64us/step - loss: 0.0948 - acc: 0.8136 - val_loss: 0.0940 - val_acc: 0.8127\n",
            "Epoch 60/100\n",
            "60000/60000 [==============================] - 4s 63us/step - loss: 0.0947 - acc: 0.8136 - val_loss: 0.0942 - val_acc: 0.8124\n",
            "Epoch 61/100\n",
            "60000/60000 [==============================] - 4s 62us/step - loss: 0.0947 - acc: 0.8136 - val_loss: 0.0957 - val_acc: 0.8131\n",
            "Epoch 62/100\n",
            "60000/60000 [==============================] - 4s 62us/step - loss: 0.0947 - acc: 0.8136 - val_loss: 0.0941 - val_acc: 0.8128\n",
            "Epoch 63/100\n",
            "60000/60000 [==============================] - 4s 64us/step - loss: 0.0947 - acc: 0.8136 - val_loss: 0.0943 - val_acc: 0.8129\n",
            "Epoch 64/100\n",
            "60000/60000 [==============================] - 4s 64us/step - loss: 0.0946 - acc: 0.8136 - val_loss: 0.0942 - val_acc: 0.8124\n",
            "Epoch 65/100\n",
            "60000/60000 [==============================] - 4s 62us/step - loss: 0.0946 - acc: 0.8136 - val_loss: 0.0941 - val_acc: 0.8128\n",
            "Epoch 66/100\n",
            "60000/60000 [==============================] - 4s 62us/step - loss: 0.0946 - acc: 0.8136 - val_loss: 0.0944 - val_acc: 0.8129\n",
            "Epoch 67/100\n",
            "60000/60000 [==============================] - 4s 63us/step - loss: 0.0946 - acc: 0.8136 - val_loss: 0.0939 - val_acc: 0.8126\n",
            "Epoch 68/100\n",
            "60000/60000 [==============================] - 4s 62us/step - loss: 0.0945 - acc: 0.8136 - val_loss: 0.0940 - val_acc: 0.8126\n",
            "Epoch 69/100\n",
            "60000/60000 [==============================] - 4s 62us/step - loss: 0.0944 - acc: 0.8136 - val_loss: 0.0948 - val_acc: 0.8130\n",
            "Epoch 70/100\n",
            "60000/60000 [==============================] - 4s 62us/step - loss: 0.0945 - acc: 0.8136 - val_loss: 0.0945 - val_acc: 0.8122\n",
            "Epoch 71/100\n",
            "60000/60000 [==============================] - 4s 62us/step - loss: 0.0945 - acc: 0.8136 - val_loss: 0.0940 - val_acc: 0.8129\n",
            "Epoch 72/100\n",
            "60000/60000 [==============================] - 4s 62us/step - loss: 0.0944 - acc: 0.8136 - val_loss: 0.0946 - val_acc: 0.8130\n",
            "Epoch 73/100\n",
            "60000/60000 [==============================] - 4s 62us/step - loss: 0.0944 - acc: 0.8136 - val_loss: 0.0938 - val_acc: 0.8127\n",
            "Epoch 74/100\n",
            "60000/60000 [==============================] - 4s 62us/step - loss: 0.0944 - acc: 0.8136 - val_loss: 0.0939 - val_acc: 0.8125\n",
            "Epoch 75/100\n",
            "60000/60000 [==============================] - 4s 61us/step - loss: 0.0944 - acc: 0.8136 - val_loss: 0.0941 - val_acc: 0.8129\n",
            "Epoch 76/100\n",
            "60000/60000 [==============================] - 4s 62us/step - loss: 0.0944 - acc: 0.8136 - val_loss: 0.0942 - val_acc: 0.8123\n",
            "Epoch 77/100\n",
            "60000/60000 [==============================] - 4s 61us/step - loss: 0.0944 - acc: 0.8136 - val_loss: 0.0937 - val_acc: 0.8127\n",
            "Epoch 78/100\n",
            "60000/60000 [==============================] - 4s 61us/step - loss: 0.0943 - acc: 0.8136 - val_loss: 0.0937 - val_acc: 0.8127\n",
            "Epoch 79/100\n",
            "60000/60000 [==============================] - 4s 61us/step - loss: 0.0944 - acc: 0.8136 - val_loss: 0.0949 - val_acc: 0.8131\n",
            "Epoch 80/100\n",
            "60000/60000 [==============================] - 4s 62us/step - loss: 0.0942 - acc: 0.8137 - val_loss: 0.0940 - val_acc: 0.8128\n",
            "Epoch 81/100\n",
            "60000/60000 [==============================] - 4s 62us/step - loss: 0.0943 - acc: 0.8137 - val_loss: 0.0937 - val_acc: 0.8127\n",
            "Epoch 82/100\n",
            "60000/60000 [==============================] - 4s 62us/step - loss: 0.0942 - acc: 0.8137 - val_loss: 0.0939 - val_acc: 0.8128\n",
            "Epoch 83/100\n",
            "60000/60000 [==============================] - 4s 62us/step - loss: 0.0942 - acc: 0.8137 - val_loss: 0.0945 - val_acc: 0.8130\n",
            "Epoch 84/100\n",
            "60000/60000 [==============================] - 4s 62us/step - loss: 0.0942 - acc: 0.8137 - val_loss: 0.0952 - val_acc: 0.8131\n",
            "Epoch 85/100\n",
            "60000/60000 [==============================] - 4s 62us/step - loss: 0.0942 - acc: 0.8137 - val_loss: 0.0936 - val_acc: 0.8127\n",
            "Epoch 86/100\n",
            "60000/60000 [==============================] - 4s 62us/step - loss: 0.0942 - acc: 0.8137 - val_loss: 0.0940 - val_acc: 0.8130\n",
            "Epoch 87/100\n",
            "60000/60000 [==============================] - 4s 62us/step - loss: 0.0942 - acc: 0.8137 - val_loss: 0.0940 - val_acc: 0.8129\n",
            "Epoch 88/100\n",
            "60000/60000 [==============================] - 4s 62us/step - loss: 0.0941 - acc: 0.8137 - val_loss: 0.0936 - val_acc: 0.8127\n",
            "Epoch 89/100\n",
            "60000/60000 [==============================] - 4s 62us/step - loss: 0.0941 - acc: 0.8137 - val_loss: 0.0945 - val_acc: 0.8121\n",
            "Epoch 90/100\n",
            "60000/60000 [==============================] - 4s 62us/step - loss: 0.0941 - acc: 0.8137 - val_loss: 0.0950 - val_acc: 0.8131\n",
            "Epoch 91/100\n",
            "60000/60000 [==============================] - 4s 62us/step - loss: 0.0941 - acc: 0.8137 - val_loss: 0.0935 - val_acc: 0.8127\n",
            "Epoch 92/100\n",
            "60000/60000 [==============================] - 4s 62us/step - loss: 0.0941 - acc: 0.8137 - val_loss: 0.0939 - val_acc: 0.8124\n",
            "Epoch 93/100\n",
            "60000/60000 [==============================] - 4s 61us/step - loss: 0.0940 - acc: 0.8137 - val_loss: 0.0937 - val_acc: 0.8128\n",
            "Epoch 94/100\n",
            "60000/60000 [==============================] - 4s 62us/step - loss: 0.0940 - acc: 0.8137 - val_loss: 0.0937 - val_acc: 0.8128\n",
            "Epoch 95/100\n",
            "60000/60000 [==============================] - 4s 61us/step - loss: 0.0940 - acc: 0.8137 - val_loss: 0.0936 - val_acc: 0.8127\n",
            "Epoch 96/100\n",
            "60000/60000 [==============================] - 4s 62us/step - loss: 0.0940 - acc: 0.8137 - val_loss: 0.0935 - val_acc: 0.8126\n",
            "Epoch 97/100\n",
            "60000/60000 [==============================] - 4s 62us/step - loss: 0.0941 - acc: 0.8137 - val_loss: 0.0936 - val_acc: 0.8128\n",
            "Epoch 98/100\n",
            "60000/60000 [==============================] - 4s 61us/step - loss: 0.0940 - acc: 0.8137 - val_loss: 0.0935 - val_acc: 0.8126\n",
            "Epoch 99/100\n",
            "60000/60000 [==============================] - 4s 62us/step - loss: 0.0940 - acc: 0.8137 - val_loss: 0.0937 - val_acc: 0.8129\n",
            "Epoch 100/100\n",
            "60000/60000 [==============================] - 4s 61us/step - loss: 0.0940 - acc: 0.8137 - val_loss: 0.0935 - val_acc: 0.8125\n"
          ],
          "name": "stdout"
        },
        {
          "output_type": "execute_result",
          "data": {
            "text/plain": [
              "<keras.callbacks.History at 0x7f7a195e0b70>"
            ]
          },
          "metadata": {
            "tags": []
          },
          "execution_count": 11
        }
      ]
    },
    {
      "cell_type": "code",
      "metadata": {
        "id": "cYE9vr91PPPO",
        "colab_type": "code",
        "colab": {
          "base_uri": "https://localhost:8080/",
          "height": 164
        },
        "outputId": "9d4cfd09-9a46-4a41-cf11-b3a54b062655"
      },
      "source": [
        "x_train_noisy.predict"
      ],
      "execution_count": 13,
      "outputs": [
        {
          "output_type": "error",
          "ename": "AttributeError",
          "evalue": "ignored",
          "traceback": [
            "\u001b[0;31m---------------------------------------------------------------------------\u001b[0m",
            "\u001b[0;31mAttributeError\u001b[0m                            Traceback (most recent call last)",
            "\u001b[0;32m<ipython-input-13-42c65dda1876>\u001b[0m in \u001b[0;36m<module>\u001b[0;34m()\u001b[0m\n\u001b[0;32m----> 1\u001b[0;31m \u001b[0mx_train_noisy\u001b[0m\u001b[0;34m.\u001b[0m\u001b[0mpredict\u001b[0m\u001b[0;34m\u001b[0m\u001b[0;34m\u001b[0m\u001b[0m\n\u001b[0m",
            "\u001b[0;31mAttributeError\u001b[0m: 'numpy.ndarray' object has no attribute 'predict'"
          ]
        }
      ]
    },
    {
      "cell_type": "code",
      "metadata": {
        "id": "efvy5oJCRZy3",
        "colab_type": "code",
        "colab": {
          "base_uri": "https://localhost:8080/",
          "height": 269
        },
        "outputId": "6b75107e-6323-4bfb-9e9e-11c5103a3b67"
      },
      "source": [
        "plt.imshow(x_test_noisy[1].reshape(28, 28))\n",
        "plt.gray()"
      ],
      "execution_count": 19,
      "outputs": [
        {
          "output_type": "display_data",
          "data": {
            "image/png": "[encoded data removed]",
            "text/plain": [
              "<Figure size 432x288 with 1 Axes>"
            ]
          },
          "metadata": {
            "tags": []
          }
        }
      ]
    },
    {
      "cell_type": "code",
      "metadata": {
        "id": "mIuRbaGtRFyj",
        "colab_type": "code",
        "colab": {
          "base_uri": "https://localhost:8080/",
          "height": 269
        },
        "outputId": "0f6e2dbc-7745-42a2-a453-c0cb97bc6926"
      },
      "source": [
        "result = autoencoder.predict(x_test_noisy)\n",
        "plt.imshow(result[1].reshape(28, 28))\n",
        "plt.gray()"
      ],
      "execution_count": 20,
      "outputs": [
        {
          "output_type": "display_data",
          "data": {
            "image/png": "[encoded data removed]",
            "text/plain": [
              "<Figure size 432x288 with 1 Axes>"
            ]
          },
          "metadata": {
            "tags": []
          }
        }
      ]
    },
    {
      "cell_type": "code",
      "metadata": {
        "id": "yj0jP_ifRxZj",
        "colab_type": "code",
        "colab": {}
      },
      "source": [
        ""
      ],
      "execution_count": 0,
      "outputs": []
    }
  ]
}