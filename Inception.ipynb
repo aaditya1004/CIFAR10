{
  "nbformat": 4,
  "nbformat_minor": 0,
  "metadata": {
    "colab": {
      "name": "Inception.ipynb",
      "version": "0.3.2",
      "provenance": []
    },
    "language_info": {
      "codemirror_mode": {
        "name": "ipython",
        "version": 3
      },
      "file_extension": ".py",
      "mimetype": "text/x-python",
      "name": "python",
      "nbconvert_exporter": "python",
      "pygments_lexer": "ipython3",
      "version": "3.6.0"
    },
    "kernelspec": {
      "name": "python3",
      "display_name": "Python 3"
    },
    "accelerator": "GPU"
  },
  "cells": [
    {
      "cell_type": "code",
      "metadata": {
        "id": "JaRllaqiOgBz",
        "colab_type": "code",
        "colab": {}
      },
      "source": [
        "from keras.datasets import cifar10\n",
        "import tensorflow as tf"
      ],
      "execution_count": 0,
      "outputs": []
    },
    {
      "cell_type": "code",
      "metadata": {
        "id": "qVe6nEkaOgB4",
        "colab_type": "code",
        "colab": {
          "base_uri": "https://localhost:8080/",
          "height": 34
        },
        "outputId": "313559c8-ca80-4c8b-c18a-df2ec912f4c0"
      },
      "source": [
        "(x_train,y_train),(x_test,y_test) = cifar10.load_data()\n",
        "print(x_train.shape)"
      ],
      "execution_count": 18,
      "outputs": [
        {
          "output_type": "stream",
          "text": [
            "(50000, 32, 32, 3)\n"
          ],
          "name": "stdout"
        }
      ]
    },
    {
      "cell_type": "code",
      "metadata": {
        "id": "TaV6JkpROgCA",
        "colab_type": "code",
        "colab": {}
      },
      "source": [
        "x_train = x_train.astype('float32')\n",
        "x_test = x_test.astype('float32')\n",
        "x_train /= 255.0\n",
        "x_test /= 255.0\n"
      ],
      "execution_count": 0,
      "outputs": []
    },
    {
      "cell_type": "code",
      "metadata": {
        "id": "JUwHMWuKOgCD",
        "colab_type": "code",
        "colab": {}
      },
      "source": [
        "from keras.utils import np_utils"
      ],
      "execution_count": 0,
      "outputs": []
    },
    {
      "cell_type": "code",
      "metadata": {
        "id": "eiiPj4maOgCF",
        "colab_type": "code",
        "colab": {}
      },
      "source": [
        "y_train = np_utils.to_categorical(y_train)\n",
        "y_test = np_utils.to_categorical(y_test)\n"
      ],
      "execution_count": 0,
      "outputs": []
    },
    {
      "cell_type": "code",
      "metadata": {
        "id": "QtHmcUwWOgCJ",
        "colab_type": "code",
        "colab": {}
      },
      "source": [
        "from keras.layers import Conv2D,MaxPooling2D,Dense,Input,Concatenate\n",
        "input_img = Input(shape=(32,32,3))\n"
      ],
      "execution_count": 0,
      "outputs": []
    },
    {
      "cell_type": "code",
      "metadata": {
        "id": "QrJ7qtxEOgCO",
        "colab_type": "code",
        "colab": {}
      },
      "source": [
        "tower1 = Conv2D(64,(1,1),padding = 'same',activation = 'relu')(input_img)\n",
        "tower1 = Conv2D(64,(3,3),padding = 'same',activation = 'relu')(tower1)\n",
        "\n",
        "tower2 = Conv2D(64,(1,1),padding = 'same',activation = 'relu')(input_img)\n",
        "tower2 = Conv2D(64,(5,5),padding = 'same',activation = 'relu')(tower2)\n",
        "\n",
        "tower3 = MaxPooling2D((3,3),strides = (1,1),padding='same')(input_img)\n",
        "tower3 = Conv2D(64,(1,1),padding = 'same',activation = 'relu')(tower3)\n",
        "\n",
        "\n",
        "\n"
      ],
      "execution_count": 0,
      "outputs": []
    },
    {
      "cell_type": "code",
      "metadata": {
        "id": "OTBMb-43OgCR",
        "colab_type": "code",
        "colab": {}
      },
      "source": [
        "import keras\n",
        "output = keras.layers.concatenate([tower1,tower2,tower3], axis = 3)"
      ],
      "execution_count": 0,
      "outputs": []
    },
    {
      "cell_type": "code",
      "metadata": {
        "id": "xxyxHrxPOgCV",
        "colab_type": "code",
        "colab": {}
      },
      "source": [
        "from keras.layers import Flatten,Dense\n",
        "output = Flatten()(output)\n",
        "out = Dense(10,activation = 'softmax')(output)"
      ],
      "execution_count": 0,
      "outputs": []
    },
    {
      "cell_type": "code",
      "metadata": {
        "id": "QYIvbGi8OgCZ",
        "colab_type": "code",
        "colab": {}
      },
      "source": [
        "from keras.models import Model\n",
        "model = Model(inputs = input_img, outputs = out)"
      ],
      "execution_count": 0,
      "outputs": []
    },
    {
      "cell_type": "code",
      "metadata": {
        "id": "01qp3EDqOgCb",
        "colab_type": "code",
        "colab": {
          "base_uri": "https://localhost:8080/",
          "height": 411
        },
        "outputId": "baf1da5a-fcdb-4567-8600-12abb83ffd24"
      },
      "source": [
        "from keras.optimizers import rmsprop\n",
        "sgd = SGD(lr = 0.01)\n",
        "model.compile(loss = 'categorical_crossentropy',optimizer = 'rmsprop',metrics = ['accuracy'])\n",
        "model.fit(x_train,y_train,epochs = 10,batch_size = 32,validation_split = 0.3)\n"
      ],
      "execution_count": 32,
      "outputs": [
        {
          "output_type": "stream",
          "text": [
            "Train on 35000 samples, validate on 15000 samples\n",
            "Epoch 1/10\n",
            "35000/35000 [==============================] - 41s 1ms/step - loss: 0.0564 - acc: 0.9920 - val_loss: 0.0860 - val_acc: 0.9875\n",
            "Epoch 2/10\n",
            "35000/35000 [==============================] - 39s 1ms/step - loss: 0.0471 - acc: 0.9934 - val_loss: 0.0737 - val_acc: 0.9895\n",
            "Epoch 3/10\n",
            "35000/35000 [==============================] - 39s 1ms/step - loss: 0.0529 - acc: 0.9923 - val_loss: 0.0881 - val_acc: 0.9872\n",
            "Epoch 4/10\n",
            "35000/35000 [==============================] - 39s 1ms/step - loss: 0.0478 - acc: 0.9933 - val_loss: 0.1175 - val_acc: 0.9855\n",
            "Epoch 5/10\n",
            "35000/35000 [==============================] - 39s 1ms/step - loss: 0.0423 - acc: 0.9940 - val_loss: 0.1282 - val_acc: 0.9837\n",
            "Epoch 6/10\n",
            "35000/35000 [==============================] - 39s 1ms/step - loss: 0.0432 - acc: 0.9937 - val_loss: 0.1249 - val_acc: 0.9832\n",
            "Epoch 7/10\n",
            "35000/35000 [==============================] - 39s 1ms/step - loss: 0.0463 - acc: 0.9933 - val_loss: 0.1205 - val_acc: 0.9842\n",
            "Epoch 8/10\n",
            "35000/35000 [==============================] - 39s 1ms/step - loss: 0.0493 - acc: 0.9935 - val_loss: 0.0736 - val_acc: 0.9906\n",
            "Epoch 9/10\n",
            "35000/35000 [==============================] - 39s 1ms/step - loss: 0.0520 - acc: 0.9931 - val_loss: 0.1096 - val_acc: 0.9878\n",
            "Epoch 10/10\n",
            "35000/35000 [==============================] - 39s 1ms/step - loss: 0.0408 - acc: 0.9943 - val_loss: 0.1274 - val_acc: 0.9819\n"
          ],
          "name": "stdout"
        },
        {
          "output_type": "execute_result",
          "data": {
            "text/plain": [
              "<keras.callbacks.History at 0x7f0d7e3d5160>"
            ]
          },
          "metadata": {
            "tags": []
          },
          "execution_count": 32
        }
      ]
    },
    {
      "cell_type": "code",
      "metadata": {
        "id": "vqwx6WUoOgCf",
        "colab_type": "code",
        "colab": {
          "base_uri": "https://localhost:8080/",
          "height": 51
        },
        "outputId": "068e5cbf-2e6a-40fb-c0ec-7d5a78a5e7c2"
      },
      "source": [
        "model.evaluate(x_test,y_test)"
      ],
      "execution_count": 33,
      "outputs": [
        {
          "output_type": "stream",
          "text": [
            "10000/10000 [==============================] - 3s 331us/step\n"
          ],
          "name": "stdout"
        },
        {
          "output_type": "execute_result",
          "data": {
            "text/plain": [
              "[5.989288546752929, 0.5707]"
            ]
          },
          "metadata": {
            "tags": []
          },
          "execution_count": 33
        }
      ]
    },
    {
      "cell_type": "code",
      "metadata": {
        "id": "gom_Vaw_TxpB",
        "colab_type": "code",
        "colab": {}
      },
      "source": [
        ""
      ],
      "execution_count": 0,
      "outputs": []
    }
  ]
}